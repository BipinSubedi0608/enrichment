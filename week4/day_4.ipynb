{
 "cells": [
  {
   "cell_type": "code",
   "execution_count": 25,
   "id": "24591dc1",
   "metadata": {},
   "outputs": [],
   "source": [
    "import os\n",
    "\n",
    "kaggle_dir = os.path.expanduser(\"~/.kaggle\")\n",
    "os.makedirs(kaggle_dir, exist_ok=True)\n",
    "\n",
    "import shutil\n",
    "shutil.copy(\"kaggle.json\", os.path.join(kaggle_dir, \"kaggle.json\"))\n",
    "\n",
    "os.chmod(os.path.join(kaggle_dir, \"kaggle.json\"), 0o600)"
   ]
  },
  {
   "cell_type": "code",
   "execution_count": 26,
   "id": "b15bf2a7",
   "metadata": {},
   "outputs": [
    {
     "name": "stdout",
     "output_type": "stream",
     "text": [
      "Dataset already exists, skipping download\n"
     ]
    }
   ],
   "source": [
    "import kaggle\n",
    "kaggle.api.authenticate()\n",
    "\n",
    "# Check if dataset already exists before downloading\n",
    "if not os.path.exists('data') or not os.path.exists(os.path.join('data', 'HAM10000_metadata.csv')):\n",
    "    kaggle.api.dataset_download_files('kmader/skin-cancer-mnist-ham10000', path='data', unzip=True)\n",
    "    print(\"Dataset downloaded\")\n",
    "else:\n",
    "    print(\"Dataset already exists, skipping download\")"
   ]
  },
  {
   "cell_type": "code",
   "execution_count": 27,
   "id": "e4aa7630",
   "metadata": {},
   "outputs": [],
   "source": [
    "import torch\n",
    "import torch.nn as nn\n",
    "import torch.optim as optim\n",
    "from torch.utils.data import DataLoader, Dataset, random_split\n",
    "from torchvision import transforms, models\n",
    "import pandas as pd\n",
    "import numpy as np\n",
    "from PIL import Image\n",
    "import matplotlib.pyplot as plt"
   ]
  },
  {
   "cell_type": "code",
   "execution_count": 28,
   "id": "7c04e686",
   "metadata": {},
   "outputs": [
    {
     "data": {
      "text/plain": [
       "device(type='cuda')"
      ]
     },
     "execution_count": 28,
     "metadata": {},
     "output_type": "execute_result"
    }
   ],
   "source": [
    "device = torch.device('cuda' if torch.cuda.is_available() else 'cpu')\n",
    "device"
   ]
  },
  {
   "cell_type": "code",
   "execution_count": 29,
   "id": "d9514af8",
   "metadata": {},
   "outputs": [],
   "source": [
    "CSV_PATH = os.path.join(\"data\", \"HAM10000_metadata.csv\")\n",
    "IMAGE_DIR = os.path.join(\"data\", \"HAM10000_images_part_1\")\n",
    "BATCH_SIZE = 32\n",
    "IMAGE_SIZE = 224\n",
    "LR = 0.01\n",
    "EPOCHS = 10"
   ]
  },
  {
   "cell_type": "code",
   "execution_count": 30,
   "id": "60e591fd",
   "metadata": {},
   "outputs": [],
   "source": [
    "# There is multiple class in label. Let's make this Binary Classification problem by mapping to one of two classes\n",
    "# 0 -> Benign\n",
    "# 1 -> Malignant\n",
    "CLASS_MAPPING={\n",
    "    'nv': 0, 'bkl':0, 'df':0, 'vasc':0, 'mel':1, 'bcc':1, 'akiec':1\n",
    "}"
   ]
  },
  {
   "cell_type": "code",
   "execution_count": 31,
   "id": "46d65e5b",
   "metadata": {},
   "outputs": [],
   "source": [
    "class SkinCancerDataset(Dataset):\n",
    "  def __init__(self, csv_path, image_dir, transform = None):\n",
    "    self.data = pd.read_csv(csv_path)\n",
    "    self.image_dir = image_dir\n",
    "    self.transform = transform\n",
    "    self.data['target'] = self.data['dx'].map(CLASS_MAPPING)\n",
    "\n",
    "  def __len__(self):\n",
    "    return len(self.data)\n",
    "  \n",
    "  def __getitem__(self, idx):\n",
    "    img_name = os.path.join(self.image_dir, self.data.iloc[idx, 'image_id'] + '.jpg')\n",
    "    image = Image.open(img_name)\n",
    "    label = self.data.iloc[idx, 'target']\n",
    "\n",
    "    if self.transform:\n",
    "      self.transform(image)\n",
    "\n",
    "    return image, torch.tensor(label, dtype = torch.long)"
   ]
  },
  {
   "cell_type": "code",
   "execution_count": 32,
   "id": "dee8324b",
   "metadata": {},
   "outputs": [],
   "source": [
    "transform = transforms.Compose([\n",
    "    transforms.Resize((IMAGE_SIZE, IMAGE_SIZE)),\n",
    "    transforms.RandomHorizontalFlip(),\n",
    "    transforms.RandomRotation(10),\n",
    "    transforms.ToTensor(),\n",
    "    transforms.Normalize(mean = [0.485, 0.456, 0.406], std = [0.229, 0.224, 0.225])\n",
    "])"
   ]
  },
  {
   "cell_type": "code",
   "execution_count": 33,
   "id": "44cd4cfc",
   "metadata": {},
   "outputs": [],
   "source": [
    "dataset_full = SkinCancerDataset(CSV_PATH, IMAGE_DIR, transform = transform)\n",
    "train_size = int(0.8 * len(dataset_full))\n",
    "test_size = len(dataset_full) - train_size\n",
    "train_dataset, test_dataset = random_split(dataset_full, [train_size, test_size])"
   ]
  },
  {
   "cell_type": "code",
   "execution_count": 34,
   "id": "29a7e922",
   "metadata": {},
   "outputs": [],
   "source": [
    "train_loader = DataLoader(train_dataset, batch_size = BATCH_SIZE, shuffle = True)\n",
    "test_loader = DataLoader(test_dataset, batch_size = BATCH_SIZE, shuffle = False)"
   ]
  },
  {
   "cell_type": "code",
   "execution_count": null,
   "id": "ef360540",
   "metadata": {},
   "outputs": [],
   "source": []
  }
 ],
 "metadata": {
  "kernelspec": {
   "display_name": "enrichment_env",
   "language": "python",
   "name": "python3"
  },
  "language_info": {
   "codemirror_mode": {
    "name": "ipython",
    "version": 3
   },
   "file_extension": ".py",
   "mimetype": "text/x-python",
   "name": "python",
   "nbconvert_exporter": "python",
   "pygments_lexer": "ipython3",
   "version": "3.11.13"
  }
 },
 "nbformat": 4,
 "nbformat_minor": 5
}
