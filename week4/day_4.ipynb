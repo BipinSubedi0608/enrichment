{
 "cells": [
  {
   "cell_type": "code",
   "execution_count": 21,
   "id": "24591dc1",
   "metadata": {},
   "outputs": [],
   "source": [
    "import os\n",
    "\n",
    "kaggle_dir = os.path.expanduser(\"~/.kaggle\")\n",
    "os.makedirs(kaggle_dir, exist_ok=True)\n",
    "\n",
    "import shutil\n",
    "shutil.copy(\"kaggle.json\", os.path.join(kaggle_dir, \"kaggle.json\"))\n",
    "\n",
    "os.chmod(os.path.join(kaggle_dir, \"kaggle.json\"), 0o600)"
   ]
  },
  {
   "cell_type": "code",
   "execution_count": 22,
   "id": "b15bf2a7",
   "metadata": {},
   "outputs": [
    {
     "name": "stdout",
     "output_type": "stream",
     "text": [
      "Dataset already exists, skipping download\n"
     ]
    }
   ],
   "source": [
    "import kaggle\n",
    "kaggle.api.authenticate()\n",
    "\n",
    "# Check if dataset already exists before downloading\n",
    "if not os.path.exists('data') or not os.path.exists(os.path.join('data', 'HAM10000_metadata.csv')):\n",
    "    kaggle.api.dataset_download_files('kmader/skin-cancer-mnist-ham10000', path='data', unzip=True)\n",
    "    print(\"Dataset downloaded\")\n",
    "else:\n",
    "    print(\"Dataset already exists, skipping download\")"
   ]
  },
  {
   "cell_type": "code",
   "execution_count": 23,
   "id": "e4aa7630",
   "metadata": {},
   "outputs": [],
   "source": [
    "import torch\n",
    "import torch.nn as nn\n",
    "import torch.optim as optim\n",
    "from torch.optim.lr_scheduler import ReduceLROnPlateau\n",
    "from torch.utils.data import DataLoader, Dataset, random_split\n",
    "from torchvision import transforms, models\n",
    "import pandas as pd\n",
    "import numpy as np\n",
    "from PIL import Image\n",
    "import matplotlib.pyplot as plt"
   ]
  },
  {
   "cell_type": "code",
   "execution_count": 24,
   "id": "7c04e686",
   "metadata": {},
   "outputs": [
    {
     "data": {
      "text/plain": [
       "device(type='cuda')"
      ]
     },
     "execution_count": 24,
     "metadata": {},
     "output_type": "execute_result"
    }
   ],
   "source": [
    "device = torch.device('cuda' if torch.cuda.is_available() else 'cpu')\n",
    "device"
   ]
  },
  {
   "cell_type": "code",
   "execution_count": 25,
   "id": "d9514af8",
   "metadata": {},
   "outputs": [],
   "source": [
    "CSV_PATH = os.path.join(\"data\", \"HAM10000_metadata.csv\")\n",
    "IMAGE_DIR_PART_1 = os.path.join(\"data\", \"HAM10000_images_part_1\")\n",
    "IMAGE_DIR_PART_2 = os.path.join(\"data\", \"HAM10000_images_part_2\")\n",
    "BATCH_SIZE = 32\n",
    "IMAGE_SIZE = 224\n",
    "LR = 0.001\n",
    "EPOCHS = 10"
   ]
  },
  {
   "cell_type": "code",
   "execution_count": 26,
   "id": "60e591fd",
   "metadata": {},
   "outputs": [],
   "source": [
    "# There is multiple class in label. Let's make this Binary Classification problem by mapping to one of two classes\n",
    "# 0 -> Benign\n",
    "# 1 -> Malignant\n",
    "CLASS_MAPPING={\n",
    "    'nv': 0, 'bkl':0, 'df':0, 'vasc':0, 'mel':1, 'bcc':1, 'akiec':1\n",
    "}"
   ]
  },
  {
   "cell_type": "code",
   "execution_count": 27,
   "id": "46d65e5b",
   "metadata": {},
   "outputs": [],
   "source": [
    "class SkinCancerDataset(Dataset):\n",
    "    def __init__(self, csv_path, image_dir_part_1, image_dir_part_2, transform = None, default_image_path = None):\n",
    "        self.data = pd.read_csv(csv_path)\n",
    "        self.image_dir_part_1 = image_dir_part_1\n",
    "        self.image_dir_part_2 = image_dir_part_2\n",
    "        self.transform = transform\n",
    "        self.default_image_path = default_image_path\n",
    "        self.data['target'] = self.data['dx'].map(CLASS_MAPPING)\n",
    "\n",
    "        self.data = self.data.reset_index(drop = True)\n",
    "\n",
    "    def __len__(self):\n",
    "      return len(self.data)\n",
    "  \n",
    "    def __getitem__(self, idx):\n",
    "      # Ensure idx is integer (fixes location-based indexing error)\n",
    "      if isinstance(idx, (list, tuple, np.ndarray)):\n",
    "        idx = idx[0]\n",
    "      if torch.is_tensor(idx):\n",
    "        idx = idx.item()\n",
    "  \n",
    "      img_id = self.data.iloc[idx]['image_id']\n",
    "      label = self.data.iloc[idx]['target']\n",
    "  \n",
    "      img_path_1 = os.path.join(self.image_dir_part_1, img_id + '.jpg')\n",
    "      img_path_2 = os.path.join(self.image_dir_part_2, img_id + '.jpg')\n",
    "  \n",
    "      image = None\n",
    "  \n",
    "      for img_path in [img_path_1, img_path_2]:\n",
    "        if os.path.exists(img_path):\n",
    "          try:\n",
    "            image = Image.open(img_path).convert('RGB')\n",
    "            break\n",
    "          except Exception as e:\n",
    "            print(f'Error loading {img_path}: {str(e)}')\n",
    "  \n",
    "      if image is None:\n",
    "        if self.default_image_path and os.path.exists(self.default_image_path):\n",
    "          image = Image.open(self.default_image_path).convert('RGB')\n",
    "          print(f'Using default image for missing: {img_id}')\n",
    "        else:\n",
    "          image = Image.new('RGB', (224, 224), (0, 0, 0))\n",
    "          print(f'Created black image for missing: {img_id}')\n",
    "  \n",
    "      if self.transform:\n",
    "        image = self.transform(image)\n",
    "  \n",
    "      return image, torch.tensor(label, dtype = torch.long)"
   ]
  },
  {
   "cell_type": "code",
   "execution_count": 28,
   "id": "dee8324b",
   "metadata": {},
   "outputs": [],
   "source": [
    "transform = transforms.Compose([\n",
    "    transforms.Resize((IMAGE_SIZE, IMAGE_SIZE)),\n",
    "    transforms.RandomHorizontalFlip(),\n",
    "    transforms.RandomRotation(10),\n",
    "    transforms.ToTensor(),\n",
    "    transforms.Normalize(mean = [0.485, 0.456, 0.406], std = [0.229, 0.224, 0.225])\n",
    "])"
   ]
  },
  {
   "cell_type": "code",
   "execution_count": 29,
   "id": "44cd4cfc",
   "metadata": {},
   "outputs": [],
   "source": [
    "dataset_full = SkinCancerDataset(CSV_PATH, IMAGE_DIR_PART_1, IMAGE_DIR_PART_2, transform = transform)\n",
    "train_size = int(0.8 * len(dataset_full))\n",
    "test_size = len(dataset_full) - train_size\n",
    "train_dataset, test_dataset = random_split(dataset_full, [train_size, test_size])"
   ]
  },
  {
   "cell_type": "code",
   "execution_count": 30,
   "id": "29a7e922",
   "metadata": {},
   "outputs": [],
   "source": [
    "train_loader = DataLoader(train_dataset, batch_size = BATCH_SIZE, shuffle = True)\n",
    "test_loader = DataLoader(test_dataset, batch_size = BATCH_SIZE, shuffle = False)"
   ]
  },
  {
   "cell_type": "code",
   "execution_count": 31,
   "id": "ef360540",
   "metadata": {},
   "outputs": [],
   "source": [
    "class SkinCancerCNN(nn.Module):\n",
    "    def __init__(self):\n",
    "        super().__init__()\n",
    "        self.features = nn.Sequential(\n",
    "            nn.Conv2d(3, 32, kernel_size = 3, padding = 1),\n",
    "            nn.ReLU(),\n",
    "            nn.MaxPool2d(2),\n",
    "\n",
    "            nn.Conv2d(32, 64, kernel_size = 3, padding = 1),\n",
    "            nn.ReLU(),\n",
    "            nn.MaxPool2d(2),\n",
    "\n",
    "            nn.Conv2d(64, 128, kernel_size = 3, padding = 1),\n",
    "            nn.ReLU(),\n",
    "            nn.MaxPool2d(2),\n",
    "\n",
    "            nn.Conv2d(128, 256, kernel_size = 3, padding = 1),\n",
    "            nn.ReLU(),\n",
    "            nn.MaxPool2d(2),\n",
    "        )\n",
    "        self.classifier = nn.Sequential(\n",
    "            nn.Flatten(),\n",
    "            nn.Linear(256 * 14 * 14, 512),\n",
    "            nn.ReLU(),\n",
    "            nn.Dropout(0.5),\n",
    "            nn.Linear(512, 2),\n",
    "        )\n",
    "\n",
    "    def forward(self, x):\n",
    "        x = self.features(x)\n",
    "        return self.classifier(x)"
   ]
  },
  {
   "cell_type": "code",
   "execution_count": 32,
   "id": "ba4bfdf5",
   "metadata": {},
   "outputs": [],
   "source": [
    "model = SkinCancerCNN().to(device)\n",
    "criterion = nn.CrossEntropyLoss()\n",
    "optimizer = optim.Adam(model.parameters(), lr=LR)\n",
    "scheduler = ReduceLROnPlateau(optimizer, mode = 'min', factor = 0.5, patience = 3)"
   ]
  },
  {
   "cell_type": "code",
   "execution_count": 33,
   "id": "5c39e44e",
   "metadata": {},
   "outputs": [],
   "source": [
    "def train_model():\n",
    "    train_losses, val_losses = [], []\n",
    "\n",
    "    for epoch in range(EPOCHS):\n",
    "        # Training\n",
    "        model.train()\n",
    "        running_loss = 0.0\n",
    "\n",
    "        for images, labels in train_loader:\n",
    "            images, labels = images.to(device), labels.to(device)\n",
    "\n",
    "            optimizer.zero_grad()\n",
    "            outputs = model(images)\n",
    "            loss = criterion(outputs, labels)\n",
    "            loss.backward()\n",
    "            optimizer.step()\n",
    "            running_loss += loss.item() * images.size(0)\n",
    "        \n",
    "        epoch_loss = running_loss / len(train_dataset)\n",
    "        train_losses.append(epoch_loss)\n",
    "\n",
    "        # Validation\n",
    "        model.eval()\n",
    "        val_loss = 0.0\n",
    "        correct = 0\n",
    "\n",
    "        with torch.no_grad():\n",
    "            for images, labels in test_loader:\n",
    "                images, labels = images.to(device), labels.to(device)\n",
    "\n",
    "                outputs = model(images)\n",
    "                loss = criterion(outputs, labels)\n",
    "                val_loss += loss.item() * images.size(0)\n",
    "                _, preds = torch.max(outputs, 1)\n",
    "                correct += (preds == labels).sum().item()\n",
    "\n",
    "        val_loss /= len(test_dataset)\n",
    "        val_losses.append(val_loss)\n",
    "        val_acc = correct / len(test_dataset)\n",
    "\n",
    "        scheduler.step(val_loss)\n",
    "\n",
    "        print(f'Epoch {epoch+1}/{EPOCHS} | '\n",
    "              f'Train Loss: {epoch_loss:.4f} | '\n",
    "              f'Val Loss: {val_loss:.4f} | '\n",
    "              f'Val Acc: {val_acc:.4f}'\n",
    "        )\n",
    "\n",
    "    # Plot losses\n",
    "    plt.plot(train_losses, label = 'Training Loss')\n",
    "    plt.plot(val_losses, label = 'Validation Loss')\n",
    "    plt.legend()\n",
    "    plt.title('Training and Validation Loss')\n",
    "    plt.show()"
   ]
  },
  {
   "cell_type": "code",
   "execution_count": 34,
   "id": "6b05a71c",
   "metadata": {},
   "outputs": [
    {
     "name": "stdout",
     "output_type": "stream",
     "text": [
      "Epoch 1/10 | Train Loss: 0.4612 | Val Loss: 0.4561 | Val Acc: 0.8093\n",
      "Epoch 2/10 | Train Loss: 0.4185 | Val Loss: 0.3782 | Val Acc: 0.8238\n",
      "Epoch 3/10 | Train Loss: 0.3952 | Val Loss: 0.4040 | Val Acc: 0.8053\n",
      "Epoch 4/10 | Train Loss: 0.3863 | Val Loss: 0.3702 | Val Acc: 0.8268\n",
      "Epoch 5/10 | Train Loss: 0.3738 | Val Loss: 0.3692 | Val Acc: 0.8268\n",
      "Epoch 6/10 | Train Loss: 0.3659 | Val Loss: 0.3740 | Val Acc: 0.8303\n",
      "Epoch 7/10 | Train Loss: 0.3526 | Val Loss: 0.3494 | Val Acc: 0.8318\n",
      "Epoch 8/10 | Train Loss: 0.3437 | Val Loss: 0.3529 | Val Acc: 0.8328\n",
      "Epoch 9/10 | Train Loss: 0.3395 | Val Loss: 0.3438 | Val Acc: 0.8342\n",
      "Epoch 10/10 | Train Loss: 0.3376 | Val Loss: 0.3398 | Val Acc: 0.8382\n"
     ]
    },
    {
     "data": {
      "image/png": "[encoded data removed]",
      "text/plain": [
       "<Figure size 640x480 with 1 Axes>"
      ]
     },
     "metadata": {},
     "output_type": "display_data"
    }
   ],
   "source": [
    "train_model()"
   ]
  },
  {
   "cell_type": "code",
   "execution_count": null,
   "id": "214bbc49",
   "metadata": {},
   "outputs": [],
   "source": []
  }
 ],
 "metadata": {
  "kernelspec": {
   "display_name": "enrichment_env",
   "language": "python",
   "name": "python3"
  },
  "language_info": {
   "codemirror_mode": {
    "name": "ipython",
    "version": 3
   },
   "file_extension": ".py",
   "mimetype": "text/x-python",
   "name": "python",
   "nbconvert_exporter": "python",
   "pygments_lexer": "ipython3",
   "version": "3.11.13"
  }
 },
 "nbformat": 4,
 "nbformat_minor": 5
}
