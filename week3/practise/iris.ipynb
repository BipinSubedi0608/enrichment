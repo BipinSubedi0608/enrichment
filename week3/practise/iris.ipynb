{
 "cells": [
  {
   "cell_type": "code",
   "execution_count": 1,
   "id": "dd3a980d",
   "metadata": {},
   "outputs": [],
   "source": [
    "import numpy as np\n",
    "import pandas as pd"
   ]
  },
  {
   "cell_type": "code",
   "execution_count": 3,
   "id": "dd268f4f",
   "metadata": {},
   "outputs": [],
   "source": [
    "path = 'Iris.csv'"
   ]
  },
  {
   "cell_type": "code",
   "execution_count": 13,
   "id": "9ea21ed3",
   "metadata": {},
   "outputs": [],
   "source": [
    "import torch.nn as nn\n",
    "import torch.optim as optim\n",
    "from sklearn.preprocessing import StandardScaler\n",
    "from sklearn.model_selection import train_test_split\n",
    "import torch\n",
    "from torch.utils.data import Dataset, DataLoader, TensorDataset"
   ]
  },
  {
   "cell_type": "code",
   "execution_count": 5,
   "id": "defc38ee",
   "metadata": {},
   "outputs": [
    {
     "name": "stdout",
     "output_type": "stream",
     "text": [
      "cuda\n"
     ]
    }
   ],
   "source": [
    "device = \"cuda\" if torch.cuda.is_available() else \"cpu\"\n",
    "print(device)"
   ]
  },
  {
   "cell_type": "code",
   "execution_count": 21,
   "id": "257e8ed0",
   "metadata": {},
   "outputs": [],
   "source": [
    "class IrisDataset(Dataset):\n",
    "    def __init__(self, csv_file_path):\n",
    "        df = pd.read_csv(csv_file_path)\n",
    "        df = df.drop('Id', axis=1)\n",
    "        self.X = df.drop('Species', axis=1).values\n",
    "        self.y = df['Species'].values\n",
    "        self._preprocess_data()\n",
    "\n",
    "    def _preprocess_data(self):\n",
    "        self.scaler = StandardScaler()\n",
    "        self.X = self.scaler.fit_transform(self.X)\n",
    "        self.y = pd.Series(self.y).map({\n",
    "            'Iris-setosa': 0, \n",
    "            'Iris-versicolor': 1, \n",
    "            'Iris-virginica': 2\n",
    "        }).values\n",
    "\n",
    "    def __len__(self):\n",
    "        return len(self.y)\n",
    "    \n",
    "    def __getitem__(self, index):\n",
    "        return self.X[index], self.y[index]\n",
    "    \n",
    "    def train_test_split(self, test_size):\n",
    "        return train_test_split(self.X, self.y, test_size=test_size, random_state=420)"
   ]
  },
  {
   "cell_type": "code",
   "execution_count": 22,
   "id": "f596b450",
   "metadata": {},
   "outputs": [],
   "source": [
    "class IrisModel(nn.Module):\n",
    "    def __init__(self):\n",
    "        super(IrisModel, self).__init__()\n",
    "        self.fc1 = nn.Linear(4, 64)\n",
    "        self.fc2 = nn.Linear(64, 64)\n",
    "        self.fc3 = nn.Linear(64, 3)\n",
    "        self.relu = nn.ReLU()\n",
    "        self.dropout = nn.Dropout(0.2)\n",
    "\n",
    "    def forward(self, x):\n",
    "        x = self.relu(self.fc1(x))\n",
    "        x = self.dropout(x)\n",
    "        x = self.relu(self.fc2(x))\n",
    "        x = self.dropout(x)\n",
    "        x = self.fc3(x)\n",
    "        return x"
   ]
  },
  {
   "cell_type": "code",
   "execution_count": 23,
   "id": "ff21bcdf",
   "metadata": {},
   "outputs": [],
   "source": [
    "dataset = IrisDataset(path)\n",
    "X_train, X_test, y_train, y_test = dataset.train_test_split(test_size=0.2)\n",
    "\n",
    "train_dataset = TensorDataset(torch.FloatTensor(X_train), torch.LongTensor(y_train))\n",
    "test_dataset = TensorDataset(torch.FloatTensor(X_test), torch.LongTensor(y_test))\n",
    "\n",
    "train_loader = DataLoader(train_dataset, batch_size=16, shuffle=True)\n",
    "test_loader = DataLoader(test_dataset, batch_size=16, shuffle=False)"
   ]
  },
  {
   "cell_type": "code",
   "execution_count": 24,
   "id": "9e61bad0",
   "metadata": {},
   "outputs": [
    {
     "name": "stdout",
     "output_type": "stream",
     "text": [
      "Epoch: 10/100, Loss: 0.3042\n",
      "Epoch: 20/100, Loss: 0.3023\n",
      "Epoch: 30/100, Loss: 0.0536\n",
      "Epoch: 40/100, Loss: 0.0591\n",
      "Epoch: 50/100, Loss: 0.2226\n",
      "Epoch: 60/100, Loss: 0.0588\n",
      "Epoch: 70/100, Loss: 0.0152\n",
      "Epoch: 80/100, Loss: 0.0902\n",
      "Epoch: 90/100, Loss: 0.0025\n",
      "Epoch: 100/100, Loss: 0.0106\n"
     ]
    }
   ],
   "source": [
    "model = IrisModel().to(device)\n",
    "criterion = nn.CrossEntropyLoss()\n",
    "optimizer = optim.Adam(model.parameters(), lr=0.001)\n",
    "\n",
    "for epoch in range(100):\n",
    "    model.train()\n",
    "    for data, targets in train_loader:\n",
    "        data, targets = data.to(device), targets.to(device)\n",
    "\n",
    "        # Forward pass\n",
    "        outputs = model(data)\n",
    "        loss = criterion(outputs, targets)\n",
    "\n",
    "        # Backward pass\n",
    "        optimizer.zero_grad()\n",
    "        loss.backward()\n",
    "        optimizer.step()\n",
    "    if (epoch + 1) % 10 == 0:\n",
    "        print(f'Epoch: {epoch+1}/{100}, Loss: {loss.item():.4f}')"
   ]
  },
  {
   "cell_type": "code",
   "execution_count": 25,
   "id": "f2b11cfe",
   "metadata": {},
   "outputs": [],
   "source": [
    "def test(model, loader, dataset):\n",
    "    model.eval()\n",
    "    correct = 0\n",
    "    total = len(dataset)\n",
    "    with torch.no_grad():\n",
    "        for data, targets in loader:\n",
    "            data, targets = data.to(device), targets.to(device)\n",
    "            outputs = model(data)\n",
    "            pred = outputs.argmax(dim=1)\n",
    "            correct += (pred == targets).sum().item()\n",
    "    accuracy = (correct / total) * 100\n",
    "    print(f'Accuracy: {accuracy:.2f}%')"
   ]
  },
  {
   "cell_type": "code",
   "execution_count": 26,
   "id": "3c3a1e58",
   "metadata": {},
   "outputs": [
    {
     "name": "stdout",
     "output_type": "stream",
     "text": [
      "Accuracy: 99.17%\n"
     ]
    }
   ],
   "source": [
    "test(model, train_loader, train_dataset)"
   ]
  },
  {
   "cell_type": "code",
   "execution_count": 27,
   "id": "b1077162",
   "metadata": {},
   "outputs": [
    {
     "name": "stdout",
     "output_type": "stream",
     "text": [
      "Accuracy: 100.00%\n"
     ]
    }
   ],
   "source": [
    "test(model, test_loader, test_dataset)"
   ]
  },
  {
   "cell_type": "code",
   "execution_count": 28,
   "id": "9ad9526c",
   "metadata": {},
   "outputs": [],
   "source": [
    "new_samples = np.array([\n",
    "    [5.1, 3.5, 1.4, 0.2],  # Should be Iris-setosa\n",
    "    [6.0, 3.0, 4.5, 1.5],  # Should be Iris-versicolor  \n",
    "    [6.5, 3.0, 5.5, 2.0],  # Should be Iris-virginica\n",
    "    [4.8, 3.0, 1.2, 0.1],  # Another setosa-like\n",
    "    [7.0, 3.2, 4.7, 1.4],  # Another versicolor-like\n",
    "    [6.9, 3.1, 5.4, 2.1],  # Another virginica-like\n",
    "])"
   ]
  },
  {
   "cell_type": "code",
   "execution_count": 29,
   "id": "95e7f387",
   "metadata": {},
   "outputs": [],
   "source": [
    "def predict(model, scaler, samples):\n",
    "    scaled_data = scaler.transform(samples)\n",
    "    tensor_data = torch.FloatTensor(scaled_data).to(device)\n",
    "\n",
    "    model.eval()\n",
    "    with torch.no_grad():\n",
    "        outputs = model(tensor_data)\n",
    "        probabilities = torch.softmax(outputs, dim=1)\n",
    "        predictions = torch.argmax(outputs, dim=1)\n",
    "\n",
    "    species = {0: 'Iris-setosa', 1: 'Iris-versicolor', 2: 'Iris-virginica'}\n",
    "\n",
    "    print(\"=== Prediction Results ===\")\n",
    "    print(\"Input format: [sepal_length, sepal_width, petal_length, petal_width]\")\n",
    "    print(\"-\" * 70)\n",
    "    \n",
    "    for i, (sample, pred, probs) in enumerate(zip(samples, predictions.cpu().numpy(), probabilities.cpu().numpy())):\n",
    "        print(f\"Sample {i+1}: {sample}\")\n",
    "        print(f\"  Predicted: {species[pred]}\")\n",
    "        print(f\"  Confidence: {probs[pred]:.3f}\")\n",
    "        print(f\"  All probabilities:\")\n",
    "        print(f\"    Setosa: {probs[0]:.3f}\")\n",
    "        print(f\"    Versicolor: {probs[1]:.3f}\")\n",
    "        print(f\"    Virginica: {probs[2]:.3f}\")\n",
    "        print(\"-\" * 70)"
   ]
  },
  {
   "cell_type": "code",
   "execution_count": 30,
   "id": "b7069822",
   "metadata": {},
   "outputs": [
    {
     "name": "stdout",
     "output_type": "stream",
     "text": [
      "=== Prediction Results ===\n",
      "Input format: [sepal_length, sepal_width, petal_length, petal_width]\n",
      "----------------------------------------------------------------------\n",
      "Sample 1: [5.1 3.5 1.4 0.2]\n",
      "  Predicted: Iris-setosa\n",
      "  Confidence: 1.000\n",
      "  All probabilities:\n",
      "    Setosa: 1.000\n",
      "    Versicolor: 0.000\n",
      "    Virginica: 0.000\n",
      "----------------------------------------------------------------------\n",
      "Sample 2: [6.  3.  4.5 1.5]\n",
      "  Predicted: Iris-versicolor\n",
      "  Confidence: 0.989\n",
      "  All probabilities:\n",
      "    Setosa: 0.001\n",
      "    Versicolor: 0.989\n",
      "    Virginica: 0.010\n",
      "----------------------------------------------------------------------\n",
      "Sample 3: [6.5 3.  5.5 2. ]\n",
      "  Predicted: Iris-virginica\n",
      "  Confidence: 0.998\n",
      "  All probabilities:\n",
      "    Setosa: 0.000\n",
      "    Versicolor: 0.002\n",
      "    Virginica: 0.998\n",
      "----------------------------------------------------------------------\n",
      "Sample 4: [4.8 3.  1.2 0.1]\n",
      "  Predicted: Iris-setosa\n",
      "  Confidence: 1.000\n",
      "  All probabilities:\n",
      "    Setosa: 1.000\n",
      "    Versicolor: 0.000\n",
      "    Virginica: 0.000\n",
      "----------------------------------------------------------------------\n",
      "Sample 5: [7.  3.2 4.7 1.4]\n",
      "  Predicted: Iris-versicolor\n",
      "  Confidence: 0.989\n",
      "  All probabilities:\n",
      "    Setosa: 0.002\n",
      "    Versicolor: 0.989\n",
      "    Virginica: 0.009\n",
      "----------------------------------------------------------------------\n",
      "Sample 6: [6.9 3.1 5.4 2.1]\n",
      "  Predicted: Iris-virginica\n",
      "  Confidence: 0.997\n",
      "  All probabilities:\n",
      "    Setosa: 0.000\n",
      "    Versicolor: 0.003\n",
      "    Virginica: 0.997\n",
      "----------------------------------------------------------------------\n"
     ]
    }
   ],
   "source": [
    "predict(model, dataset.scaler, new_samples)"
   ]
  }
 ],
 "metadata": {
  "kernelspec": {
   "display_name": "enrichment_env",
   "language": "python",
   "name": "python3"
  },
  "language_info": {
   "codemirror_mode": {
    "name": "ipython",
    "version": 3
   },
   "file_extension": ".py",
   "mimetype": "text/x-python",
   "name": "python",
   "nbconvert_exporter": "python",
   "pygments_lexer": "ipython3",
   "version": "3.11.13"
  }
 },
 "nbformat": 4,
 "nbformat_minor": 5
}
