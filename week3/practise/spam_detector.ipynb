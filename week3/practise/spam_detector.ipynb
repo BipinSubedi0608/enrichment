{
 "cells": [
  {
   "cell_type": "code",
   "execution_count": 5,
   "id": "b872315e",
   "metadata": {},
   "outputs": [],
   "source": [
    "import torch\n",
    "import torch.nn as nn\n",
    "import torch.optim as optim\n",
    "from torch.utils.data import Dataset, DataLoader\n",
    "from sklearn.feature_extraction.text import TfidfVectorizer\n",
    "from sklearn.model_selection import train_test_split\n",
    "import pandas as pd\n",
    "import numpy as np\n",
    "import joblib\n",
    "import matplotlib.pyplot as plt\n",
    "from sklearn.metrics import accuracy_score, precision_score, recall_score, f1_score"
   ]
  },
  {
   "cell_type": "code",
   "execution_count": 6,
   "id": "a2fb02a5",
   "metadata": {},
   "outputs": [],
   "source": [
    "import re\n",
    "\n",
    "def preprocess_text(text):\n",
    "    text = text.lower()\n",
    "    text = re.sub(r\"http\\S+|www\\S+|[^a-z\\s]\", \"\", text)\n",
    "    text = re.sub(r'\\s+', ' ', text).strip()\n",
    "    return text"
   ]
  },
  {
   "cell_type": "code",
   "execution_count": 7,
   "id": "d7047d3f",
   "metadata": {},
   "outputs": [],
   "source": [
    "path = 'Spam.csv'\n",
    "df = pd.read_csv(path)\n",
    "\n",
    "df['SMS'] = df['SMS'].apply(preprocess_text)\n",
    "\n",
    "X = df['SMS'].values\n",
    "y = df['CLASS'].apply(lambda x: 1 if x == 'spam' else 0).values\n",
    "\n",
    "X_train, X_test, y_train, y_test = train_test_split(X, y, test_size=0.2, random_state=420)"
   ]
  },
  {
   "cell_type": "code",
   "execution_count": 8,
   "id": "3e99e1a7",
   "metadata": {},
   "outputs": [
    {
     "data": {
      "text/plain": [
       "['tfidf_vectorizer.pkl']"
      ]
     },
     "execution_count": 8,
     "metadata": {},
     "output_type": "execute_result"
    }
   ],
   "source": [
    "vectorizer = TfidfVectorizer(max_features=5000, min_df=2, max_df=0.95)\n",
    "vectorizer_save_path = 'tfidf_vectorizer.pkl'\n",
    "\n",
    "X_train_vector = vectorizer.fit_transform(X_train)\n",
    "X_test_vector = vectorizer.transform(X_test)\n",
    "\n",
    "joblib.dump(vectorizer, vectorizer_save_path)"
   ]
  },
  {
   "cell_type": "code",
   "execution_count": 13,
   "id": "fddd890e",
   "metadata": {},
   "outputs": [],
   "source": [
    "class SpamDataset(Dataset):\n",
    "    def __init__(self, X, y, vectorizer):\n",
    "        self.X = X\n",
    "        self.y = y\n",
    "        self.vectorizer = vectorizer\n",
    "    \n",
    "    def __len__(self):\n",
    "        return len(self.X)\n",
    "    \n",
    "    def __getitem__(self, index):\n",
    "        text = self.X[index]\n",
    "        label = self.y[index]\n",
    "\n",
    "        text_vector = self.vectorizer.transform([text]).toarray().astype(np.float32)\n",
    "\n",
    "        input_tensor = torch.tensor(text_vector).squeeze(0)\n",
    "        label_tensor = torch.tensor(label).long()\n",
    "\n",
    "        return input_tensor, label_tensor"
   ]
  },
  {
   "cell_type": "code",
   "execution_count": 14,
   "id": "e930e766",
   "metadata": {},
   "outputs": [],
   "source": [
    "class SpamDetector(nn.Module):\n",
    "    def __init__(self, input_dim):\n",
    "        super(SpamDetector, self).__init__()\n",
    "\n",
    "        self.fc1 = nn.Linear(input_dim, 64)\n",
    "        self.fc2 = nn.Linear(64, 64)\n",
    "        self.fc3 = nn.Linear(64, 1)\n",
    "\n",
    "        self.dropout = nn.Dropout(0.3)\n",
    "\n",
    "    def forward(self, x):\n",
    "        x = self.fc1(x)\n",
    "        x = torch.relu(x)\n",
    "        x = self.dropout(x)\n",
    "\n",
    "        x = self.fc2(x)\n",
    "        x = torch.relu(x)\n",
    "        x = self.dropout(x)\n",
    "\n",
    "        x = self.fc3(x)\n",
    "\n",
    "        return x"
   ]
  },
  {
   "cell_type": "code",
   "execution_count": 15,
   "id": "e840462e",
   "metadata": {},
   "outputs": [
    {
     "name": "stdout",
     "output_type": "stream",
     "text": [
      "Device = cuda\n"
     ]
    }
   ],
   "source": [
    "train_dataset = SpamDataset(X_train, y_train, vectorizer)\n",
    "test_dataset = SpamDataset(X_test, y_test, vectorizer)\n",
    "\n",
    "train_loader = DataLoader(train_dataset, batch_size=32, shuffle=True)\n",
    "test_loader = DataLoader(test_dataset, batch_size=32, shuffle=False)\n",
    "\n",
    "input_dim = X_train_vector.shape[1]\n",
    "device = torch.device('cuda' if torch.cuda.is_available() else \"cpu\")\n",
    "print(f\"Device = {device}\")\n",
    "\n",
    "model = SpamDetector(input_dim).to(device)\n",
    "criterion = nn.BCEWithLogitsLoss()\n",
    "optimizer = optim.Adam(model.parameters(), lr=0.001, weight_decay=1e-4)"
   ]
  },
  {
   "cell_type": "code",
   "execution_count": 16,
   "id": "49d3dc38",
   "metadata": {},
   "outputs": [
    {
     "name": "stdout",
     "output_type": "stream",
     "text": [
      "Epoch [10/100], Loss: 0.0163\n",
      "Training Accuracy: 99.83%\n",
      "Epoch [20/100], Loss: 0.0065\n",
      "Training Accuracy: 99.83%\n",
      "Epoch [30/100], Loss: 0.0063\n",
      "Training Accuracy: 99.83%\n",
      "Epoch [40/100], Loss: 0.0054\n",
      "Training Accuracy: 99.75%\n",
      "Epoch [50/100], Loss: 0.0055\n",
      "Training Accuracy: 99.83%\n",
      "Epoch [60/100], Loss: 0.0041\n",
      "Training Accuracy: 99.83%\n",
      "Epoch [70/100], Loss: 0.0033\n",
      "Training Accuracy: 99.83%\n",
      "Epoch [80/100], Loss: 0.0061\n",
      "Training Accuracy: 99.83%\n",
      "Epoch [90/100], Loss: 0.0039\n",
      "Training Accuracy: 99.83%\n",
      "Epoch [100/100], Loss: 0.0062\n",
      "Training Accuracy: 99.92%\n"
     ]
    }
   ],
   "source": [
    "num_epochs = 100\n",
    "for epoch in range(num_epochs):\n",
    "    model.train()\n",
    "    running_loss = 0\n",
    "\n",
    "    for inputs, targets in train_loader:\n",
    "        inputs, targets = inputs.to(device), targets.to(device)\n",
    "        optimizer.zero_grad()\n",
    "\n",
    "        # Forward pass\n",
    "        outputs = model(inputs)\n",
    "\n",
    "        # Compute loss\n",
    "        loss = criterion(outputs.squeeze(), targets.float())\n",
    "\n",
    "        # Backward pass\n",
    "        loss.backward()\n",
    "        optimizer.step()\n",
    "\n",
    "        running_loss += loss.item()\n",
    "\n",
    "    if (epoch + 1) % 10 == 0:\n",
    "        avg_loss = running_loss/len(train_loader)\n",
    "        print(f\"Epoch [{epoch+1}/{num_epochs}], Loss: {avg_loss:.4f}\")\n",
    "        \n",
    "        # Quick accuracy check\n",
    "        with torch.no_grad():\n",
    "            correct = 0\n",
    "            total = 0\n",
    "            for inputs, targets in train_loader:\n",
    "                inputs, targets = inputs.to(device), targets.to(device)\n",
    "                outputs = model(inputs)\n",
    "                predicted = (torch.sigmoid(outputs.squeeze()) > 0.5).float()\n",
    "                total += targets.size(0)\n",
    "                correct += (predicted == targets.float()).sum().item()\n",
    "            print(f\"Training Accuracy: {100 * correct / total:.2f}%\")"
   ]
  },
  {
   "cell_type": "code",
   "execution_count": null,
   "id": "f0bf7cd8",
   "metadata": {},
   "outputs": [],
   "source": [
    "def evaluate_model(mode, test_loader):\n",
    "    pass\n"
   ]
  }
 ],
 "metadata": {
  "kernelspec": {
   "display_name": "enrichment_env",
   "language": "python",
   "name": "python3"
  },
  "language_info": {
   "codemirror_mode": {
    "name": "ipython",
    "version": 3
   },
   "file_extension": ".py",
   "mimetype": "text/x-python",
   "name": "python",
   "nbconvert_exporter": "python",
   "pygments_lexer": "ipython3",
   "version": "3.11.13"
  }
 },
 "nbformat": 4,
 "nbformat_minor": 5
}
