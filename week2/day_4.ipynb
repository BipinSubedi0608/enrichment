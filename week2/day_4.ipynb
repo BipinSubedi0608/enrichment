{
 "cells": [
  {
   "cell_type": "code",
   "execution_count": 1,
   "id": "a23df6c8-db07-4e71-982f-4a5891d3afdf",
   "metadata": {},
   "outputs": [],
   "source": [
    "import numpy as np\n",
    "import pandas as pd"
   ]
  },
  {
   "cell_type": "code",
   "execution_count": 2,
   "id": "b2657d18-536b-467c-b57e-56714b8a645c",
   "metadata": {},
   "outputs": [],
   "source": [
    "import torch.nn as nn\n",
    "import torch.optim as optim\n",
    "import torch\n",
    "from torch.utils.data import Dataset, DataLoader\n",
    "from sklearn.preprocessing import StandardScaler"
   ]
  },
  {
   "cell_type": "code",
   "execution_count": 3,
   "id": "f8e8772d-a679-44d7-952b-361c08442b83",
   "metadata": {},
   "outputs": [],
   "source": [
    "class HousingDataset(Dataset):\n",
    "    def __init__(self, csv_file):\n",
    "\n",
    "        df = pd.read_csv(csv_file)\n",
    "        yes_no = ['mainroad','guestroom','basement','hotwaterheating','airconditioning','prefarea']\n",
    "        for c in yes_no:\n",
    "            if c in df: df[c] = df[c].map({'yes':1,'no':0})\n",
    "\n",
    "        df = pd.get_dummies(df, columns=['furnishingstatus'], dtype=int)\n",
    "\n",
    "        self.y = df['price'].values.astype('float32').reshape(-1,1)\n",
    "        X = df.drop(columns=['price']).values.astype('float32')\n",
    "        self.scaler = StandardScaler()\n",
    "        self.X = self.scaler.fit_transform(X)\n",
    "        self.X = torch.from_numpy(self.X)\n",
    "        self.y = np.log1p(df['price'].values.astype('float32')).reshape(-1,1)\n",
    "\n",
    "    def __len__(self):\n",
    "        return len(self.y)\n",
    "\n",
    "    def __getitem__(self, idx):\n",
    "        return self.X[idx], self.y[idx]"
   ]
  },
  {
   "cell_type": "code",
   "execution_count": 4,
   "id": "c1d2a2b7-810b-4a5a-90b8-bfa74c25e6dd",
   "metadata": {},
   "outputs": [],
   "source": [
    "path = 'Housing.csv'\n",
    "ds = HousingDataset(path)\n",
    "loader = DataLoader(ds, batch_size = 4, shuffle = True)"
   ]
  },
  {
   "cell_type": "code",
   "execution_count": 5,
   "id": "f4850006-5bd9-44dc-8ec5-0cfa75553e82",
   "metadata": {},
   "outputs": [
    {
     "data": {
      "text/plain": [
       "[tensor([[ 0.1381, -1.3089, -0.5702, -0.9294,  0.4056, -0.4653, -0.7345, -0.2193,\n",
       "          -0.6791, -0.8057, -0.5540,  1.7008, -0.8449, -0.6964],\n",
       "         [-0.5122, -1.3089, -0.5702, -0.9294,  0.4056, -0.4653, -0.7345, -0.2193,\n",
       "          -0.6791,  0.3560, -0.5540, -0.5879, -0.8449,  1.4359],\n",
       "         [-0.4961,  0.0473, -0.5702, -0.9294,  0.4056,  2.1491,  1.3614, -0.2193,\n",
       "          -0.6791,  1.5177, -0.5540, -0.5879,  1.1836, -0.6964],\n",
       "         [ 0.5578, -1.3089, -0.5702, -0.9294,  0.4056, -0.4653, -0.7345, -0.2193,\n",
       "          -0.6791, -0.8057, -0.5540,  1.7008, -0.8449, -0.6964]]),\n",
       " tensor([[15.1247],\n",
       "         [15.0170],\n",
       "         [15.2834],\n",
       "         [15.2671]])]"
      ]
     },
     "execution_count": 5,
     "metadata": {},
     "output_type": "execute_result"
    }
   ],
   "source": [
    "next(iter(loader))"
   ]
  },
  {
   "cell_type": "code",
   "execution_count": 6,
   "id": "c6a1730e-5785-4f27-a6eb-a54b8af6de46",
   "metadata": {},
   "outputs": [],
   "source": [
    "class Model(nn.Module):\n",
    "    def __init__(self, in_feature):\n",
    "        super().__init__()\n",
    "        self.net = nn.Sequential(\n",
    "            nn.Linear(in_feature, 1),\n",
    "            nn.ReLU()\n",
    "        )\n",
    "\n",
    "    def forward(self, x):\n",
    "        return self.net(x)\n",
    "\n",
    "model = Model(ds.X.shape[1])"
   ]
  },
  {
   "cell_type": "code",
   "execution_count": 7,
   "id": "734858fd-2845-45f6-b114-b5f17d475816",
   "metadata": {},
   "outputs": [],
   "source": [
    "crit = nn.MSELoss()\n",
    "optimizer = optim.Adam"
   ]
  }
 ],
 "metadata": {
  "kernelspec": {
   "display_name": "enrichment_env",
   "language": "python",
   "name": "python3"
  },
  "language_info": {
   "codemirror_mode": {
    "name": "ipython",
    "version": 3
   },
   "file_extension": ".py",
   "mimetype": "text/x-python",
   "name": "python",
   "nbconvert_exporter": "python",
   "pygments_lexer": "ipython3",
   "version": "3.11.13"
  }
 },
 "nbformat": 4,
 "nbformat_minor": 5
}
