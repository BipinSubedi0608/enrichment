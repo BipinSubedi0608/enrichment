{
 "cells": [
  {
   "cell_type": "code",
   "execution_count": 1,
   "id": "a3d78a53-44ad-4268-b835-2652de24c512",
   "metadata": {},
   "outputs": [],
   "source": [
    "import torch\n",
    "from torch.utils.data import Dataset, DataLoader\n",
    "import pandas as pd"
   ]
  },
  {
   "cell_type": "code",
   "execution_count": 2,
   "id": "cf8dce14-ba96-4e39-97f0-5b9af296bdaf",
   "metadata": {},
   "outputs": [],
   "source": [
    "class CSVClassificationDataset(Dataset):\n",
    "    def __init__(self, csv_file_path, transform=None, target_transform=None):\n",
    "\n",
    "        self.data = self.preprocess(csv_file_path)\n",
    "        self.X = self.data.iloc[:,1:].values.astype('float32')\n",
    "        self.y = self.data.iloc[:,0].values.astype('int64')\n",
    "        self.transform = transform\n",
    "        self.target_transform = target_transform\n",
    "\n",
    "    def __len__(self):\n",
    "        return len(self.data)\n",
    "\n",
    "    def __getitem__(self, idx):\n",
    "        sample = self.X[idx]\n",
    "        label = self.y[idx]\n",
    "\n",
    "        if self.transform:\n",
    "            sample = self.transform(sample)\n",
    "        if self.target_transform:\n",
    "            label = self.target_transform(label)\n",
    "\n",
    "        return torch.tensor(sample), torch.tensor(label)\n",
    "\n",
    "    def preprocess(self, csv_file_path):\n",
    "        df = pd.read_csv(csv_file_path)\n",
    "        yes_no_columns = ['mainroad', 'guestroom', 'basement',\n",
    "                          'hotwaterheating', 'airconditioning', 'prefarea']\n",
    "\n",
    "        for col in yes_no_columns:\n",
    "            if col in df.columns:\n",
    "                df[col] = df[col].map({'yes': 1, 'no': 0})\n",
    "        df = pd.get_dummies(df, columns=['furnishingstatus'], drop_first=False, dtype = int)\n",
    "        return df\n"
   ]
  },
  {
   "cell_type": "code",
   "execution_count": 3,
   "id": "9580cca8-51fc-4d6b-8c1b-f8e03a17e13a",
   "metadata": {},
   "outputs": [
    {
     "data": {
      "text/plain": [
       "545"
      ]
     },
     "execution_count": 3,
     "metadata": {},
     "output_type": "execute_result"
    }
   ],
   "source": [
    "path = 'Housing.csv'\n",
    "dataset = CSVClassificationDataset(path)\n",
    "dataset.__len__()"
   ]
  },
  {
   "cell_type": "code",
   "execution_count": 4,
   "id": "41dfdeab-525c-4c32-a891-cd432d997006",
   "metadata": {},
   "outputs": [],
   "source": [
    "from torch.utils.data import DataLoader\n",
    "train_dataloader = DataLoader(dataset, batch_size = 16, shuffle = True)"
   ]
  },
  {
   "cell_type": "code",
   "execution_count": 5,
   "id": "42f33b1f-2f55-413a-afe4-0e65969b6427",
   "metadata": {},
   "outputs": [
    {
     "data": {
      "text/plain": [
       "[tensor([[4.5000e+03, 3.0000e+00, 2.0000e+00, 3.0000e+00, 1.0000e+00, 0.0000e+00,\n",
       "          0.0000e+00, 1.0000e+00, 0.0000e+00, 1.0000e+00, 0.0000e+00, 1.0000e+00,\n",
       "          0.0000e+00, 0.0000e+00],\n",
       "         [5.5000e+03, 3.0000e+00, 2.0000e+00, 1.0000e+00, 1.0000e+00, 1.0000e+00,\n",
       "          1.0000e+00, 0.0000e+00, 0.0000e+00, 2.0000e+00, 1.0000e+00, 1.0000e+00,\n",
       "          0.0000e+00, 0.0000e+00],\n",
       "         [9.8600e+03, 3.0000e+00, 1.0000e+00, 1.0000e+00, 1.0000e+00, 0.0000e+00,\n",
       "          0.0000e+00, 0.0000e+00, 0.0000e+00, 0.0000e+00, 0.0000e+00, 0.0000e+00,\n",
       "          1.0000e+00, 0.0000e+00],\n",
       "         [3.1800e+03, 2.0000e+00, 1.0000e+00, 1.0000e+00, 1.0000e+00, 0.0000e+00,\n",
       "          0.0000e+00, 0.0000e+00, 0.0000e+00, 0.0000e+00, 0.0000e+00, 0.0000e+00,\n",
       "          0.0000e+00, 1.0000e+00],\n",
       "         [3.4600e+03, 4.0000e+00, 1.0000e+00, 2.0000e+00, 1.0000e+00, 0.0000e+00,\n",
       "          0.0000e+00, 0.0000e+00, 1.0000e+00, 0.0000e+00, 0.0000e+00, 0.0000e+00,\n",
       "          1.0000e+00, 0.0000e+00],\n",
       "         [3.9600e+03, 3.0000e+00, 1.0000e+00, 2.0000e+00, 1.0000e+00, 0.0000e+00,\n",
       "          0.0000e+00, 0.0000e+00, 0.0000e+00, 0.0000e+00, 0.0000e+00, 1.0000e+00,\n",
       "          0.0000e+00, 0.0000e+00],\n",
       "         [4.3600e+03, 4.0000e+00, 1.0000e+00, 2.0000e+00, 1.0000e+00, 0.0000e+00,\n",
       "          0.0000e+00, 0.0000e+00, 0.0000e+00, 0.0000e+00, 0.0000e+00, 1.0000e+00,\n",
       "          0.0000e+00, 0.0000e+00],\n",
       "         [3.5000e+03, 2.0000e+00, 1.0000e+00, 1.0000e+00, 1.0000e+00, 0.0000e+00,\n",
       "          0.0000e+00, 0.0000e+00, 0.0000e+00, 0.0000e+00, 0.0000e+00, 0.0000e+00,\n",
       "          0.0000e+00, 1.0000e+00],\n",
       "         [3.1850e+03, 2.0000e+00, 1.0000e+00, 1.0000e+00, 1.0000e+00, 0.0000e+00,\n",
       "          0.0000e+00, 0.0000e+00, 0.0000e+00, 2.0000e+00, 0.0000e+00, 0.0000e+00,\n",
       "          0.0000e+00, 1.0000e+00],\n",
       "         [8.4000e+03, 3.0000e+00, 1.0000e+00, 2.0000e+00, 1.0000e+00, 1.0000e+00,\n",
       "          1.0000e+00, 0.0000e+00, 1.0000e+00, 2.0000e+00, 1.0000e+00, 0.0000e+00,\n",
       "          0.0000e+00, 1.0000e+00],\n",
       "         [7.9800e+03, 3.0000e+00, 1.0000e+00, 1.0000e+00, 1.0000e+00, 0.0000e+00,\n",
       "          0.0000e+00, 0.0000e+00, 0.0000e+00, 2.0000e+00, 0.0000e+00, 0.0000e+00,\n",
       "          1.0000e+00, 0.0000e+00],\n",
       "         [2.1350e+03, 3.0000e+00, 2.0000e+00, 2.0000e+00, 0.0000e+00, 0.0000e+00,\n",
       "          0.0000e+00, 0.0000e+00, 0.0000e+00, 0.0000e+00, 0.0000e+00, 0.0000e+00,\n",
       "          0.0000e+00, 1.0000e+00],\n",
       "         [3.0690e+03, 2.0000e+00, 1.0000e+00, 1.0000e+00, 1.0000e+00, 0.0000e+00,\n",
       "          0.0000e+00, 0.0000e+00, 0.0000e+00, 1.0000e+00, 0.0000e+00, 0.0000e+00,\n",
       "          0.0000e+00, 1.0000e+00],\n",
       "         [3.0000e+03, 4.0000e+00, 1.0000e+00, 3.0000e+00, 1.0000e+00, 0.0000e+00,\n",
       "          1.0000e+00, 0.0000e+00, 1.0000e+00, 2.0000e+00, 0.0000e+00, 0.0000e+00,\n",
       "          1.0000e+00, 0.0000e+00],\n",
       "         [7.9500e+03, 5.0000e+00, 2.0000e+00, 2.0000e+00, 1.0000e+00, 0.0000e+00,\n",
       "          1.0000e+00, 1.0000e+00, 0.0000e+00, 2.0000e+00, 0.0000e+00, 0.0000e+00,\n",
       "          0.0000e+00, 1.0000e+00],\n",
       "         [6.3210e+03, 3.0000e+00, 1.0000e+00, 2.0000e+00, 1.0000e+00, 0.0000e+00,\n",
       "          1.0000e+00, 0.0000e+00, 1.0000e+00, 1.0000e+00, 0.0000e+00, 1.0000e+00,\n",
       "          0.0000e+00, 0.0000e+00]]),\n",
       " tensor([4340000, 6195000, 4515000, 2310000, 4007500, 3990000, 4270000, 3115000,\n",
       "         3430000, 5250000, 5495000, 3500000, 3150000, 4060000, 8400000, 4760000])]"
      ]
     },
     "execution_count": 5,
     "metadata": {},
     "output_type": "execute_result"
    }
   ],
   "source": [
    "next(iter(train_dataloader))"
   ]
  },
  {
   "cell_type": "code",
   "execution_count": null,
   "id": "24979e67-9671-478d-9e98-e1d1b56ee431",
   "metadata": {},
   "outputs": [],
   "source": []
  }
 ],
 "metadata": {
  "kernelspec": {
   "display_name": "enrichment_env",
   "language": "python",
   "name": "python3"
  },
  "language_info": {
   "codemirror_mode": {
    "name": "ipython",
    "version": 3
   },
   "file_extension": ".py",
   "mimetype": "text/x-python",
   "name": "python",
   "nbconvert_exporter": "python",
   "pygments_lexer": "ipython3",
   "version": "3.11.13"
  }
 },
 "nbformat": 4,
 "nbformat_minor": 5
}
