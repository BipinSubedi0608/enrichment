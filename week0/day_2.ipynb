{
 "cells": [
  {
   "cell_type": "code",
   "execution_count": 1,
   "id": "96e42915-d25c-4bdc-b911-09ca8751ba50",
   "metadata": {},
   "outputs": [],
   "source": [
    "import numpy as np\n",
    "import pandas as pd"
   ]
  },
  {
   "cell_type": "code",
   "execution_count": 2,
   "id": "556da15f-6be9-49b9-a9c7-96ec6d5c3452",
   "metadata": {},
   "outputs": [],
   "source": [
    "df = pd.read_csv(\"matches.csv\")"
   ]
  },
  {
   "cell_type": "code",
   "execution_count": 3,
   "id": "fd4508c1-6d46-4e4e-9faf-48a51096985c",
   "metadata": {},
   "outputs": [],
   "source": [
    "toss_winner = df[\"toss_winner\"]"
   ]
  },
  {
   "cell_type": "code",
   "execution_count": 4,
   "id": "883bcc40-55fc-44cb-ba26-9604eccc182d",
   "metadata": {
    "editable": true,
    "slideshow": {
     "slide_type": ""
    },
    "tags": []
   },
   "outputs": [
    {
     "data": {
      "text/plain": [
       "0      Royal Challengers Bangalore\n",
       "1           Rising Pune Supergiant\n",
       "2            Kolkata Knight Riders\n",
       "3                  Kings XI Punjab\n",
       "4      Royal Challengers Bangalore\n",
       "                  ...             \n",
       "751                 Mumbai Indians\n",
       "752            Chennai Super Kings\n",
       "753                 Delhi Capitals\n",
       "754            Chennai Super Kings\n",
       "755                 Mumbai Indians\n",
       "Name: toss_winner, Length: 756, dtype: object"
      ]
     },
     "execution_count": 4,
     "metadata": {},
     "output_type": "execute_result"
    }
   ],
   "source": [
    "toss_winner"
   ]
  },
  {
   "cell_type": "code",
   "execution_count": null,
   "id": "759845ec-3102-4641-bc85-63fa9b025f4d",
   "metadata": {},
   "outputs": [],
   "source": []
  }
 ],
 "metadata": {
  "kernelspec": {
   "display_name": "enrichment_env",
   "language": "python",
   "name": "python3"
  },
  "language_info": {
   "codemirror_mode": {
    "name": "ipython",
    "version": 3
   },
   "file_extension": ".py",
   "mimetype": "text/x-python",
   "name": "python",
   "nbconvert_exporter": "python",
   "pygments_lexer": "ipython3",
   "version": "3.11.13"
  }
 },
 "nbformat": 4,
 "nbformat_minor": 5
}
